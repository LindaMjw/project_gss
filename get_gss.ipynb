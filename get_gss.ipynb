{
  "cells": [
    {
      "cell_type": "markdown",
      "source": [
        "## Getting the GSS Data\n",
        "\n",
        "Since the data files are about 40GB zipped, we can't store a compressed or uncompressed version on GitHub, and the entire dataset can't really be loaded into memory with Colab.\n",
        "\n",
        "One option is to use Rivana: Download the data, unzip it, and work on it in a persistent environment.\n",
        "\n",
        "The other option is to avoid opening the entire file at once, and instead work with chunks of the data. That's what this code does for you.\n",
        "\n",
        "On GitHub, the data are broken into three smaller files, saved in .parquet format. The code below will load these chunks into memory, one at a time, you can specify the variables you want in `var_list`, and the results will be saved in `selected_gss_data.csv`.\n",
        "\n",
        "You can add more cleaning instructions in between the lines where the data are loaded ( `df = pd.read_parquet(url)`) and the data are saved (`df.loc...`). It's probably easiest to use this code to get only the variables you want, and then clean that subset of the data."
      ],
      "metadata": {
        "id": "1wG5tUBJZAeC"
      },
      "id": "1wG5tUBJZAeC"
    },
    {
      "cell_type": "code",
      "execution_count": 62,
      "id": "898a40de-9f3d-4dfc-8878-cd3badfdbcec",
      "metadata": {
        "id": "898a40de-9f3d-4dfc-8878-cd3badfdbcec",
        "outputId": "d962f71b-5311-476d-ec0f-5c2fc8cd462d",
        "colab": {
          "base_uri": "https://localhost:8080/"
        }
      },
      "outputs": [
        {
          "output_type": "stream",
          "name": "stdout",
          "text": [
            "https://github.com/DS3001/project_gss/raw/main/gss_chunk_1.parquet\n",
            "   year  id            wrkstat  hrs1  hrs2 evwork    occ  prestige  \\\n",
            "0  1972   1  working full time   NaN   NaN    NaN  205.0      50.0   \n",
            "1  1972   2            retired   NaN   NaN    yes  441.0      45.0   \n",
            "2  1972   3  working part time   NaN   NaN    NaN  270.0      44.0   \n",
            "3  1972   4  working full time   NaN   NaN    NaN    1.0      57.0   \n",
            "4  1972   5      keeping house   NaN   NaN    yes  385.0      40.0   \n",
            "\n",
            "         wrkslf wrkgovt  ...  agehef12 agehef13 agehef14  hompoph wtssps_nea  \\\n",
            "0  someone else     NaN  ...       NaN      NaN      NaN      NaN        NaN   \n",
            "1  someone else     NaN  ...       NaN      NaN      NaN      NaN        NaN   \n",
            "2  someone else     NaN  ...       NaN      NaN      NaN      NaN        NaN   \n",
            "3  someone else     NaN  ...       NaN      NaN      NaN      NaN        NaN   \n",
            "4  someone else     NaN  ...       NaN      NaN      NaN      NaN        NaN   \n",
            "\n",
            "   wtssnrps_nea  wtssps_next wtssnrps_next wtsscomp wtsscompnr  \n",
            "0           NaN          NaN           NaN   0.4446        NaN  \n",
            "1           NaN          NaN           NaN   0.8893        NaN  \n",
            "2           NaN          NaN           NaN   0.8893        NaN  \n",
            "3           NaN          NaN           NaN   0.8893        NaN  \n",
            "4           NaN          NaN           NaN   0.8893        NaN  \n",
            "\n",
            "[5 rows x 6694 columns]\n",
            "https://github.com/DS3001/project_gss/raw/main/gss_chunk_2.parquet\n",
            "   year   id            wrkstat  hrs1  hrs2 evwork    occ  prestige  \\\n",
            "0  1989  775            retired   NaN   NaN    yes  540.0      36.0   \n",
            "1  1989  776  working full time  40.0   NaN    NaN  925.0      36.0   \n",
            "2  1989  777            retired   NaN   NaN    yes   80.0      61.0   \n",
            "3  1989  778  working full time  44.0   NaN    NaN  912.0      26.0   \n",
            "4  1989  779            retired   NaN   NaN    yes  690.0      32.0   \n",
            "\n",
            "         wrkslf wrkgovt  ...  agehef12 agehef13 agehef14  hompoph wtssps_nea  \\\n",
            "0  someone else     NaN  ...       NaN      NaN      NaN      NaN        NaN   \n",
            "1  someone else     NaN  ...       NaN      NaN      NaN      NaN        NaN   \n",
            "2  someone else     NaN  ...       NaN      NaN      NaN      NaN        NaN   \n",
            "3  someone else     NaN  ...       NaN      NaN      NaN      NaN        NaN   \n",
            "4  someone else     NaN  ...       NaN      NaN      NaN      NaN        NaN   \n",
            "\n",
            "   wtssnrps_nea  wtssps_next wtssnrps_next  wtsscomp wtsscompnr  \n",
            "0           NaN          NaN           NaN  1.295069        NaN  \n",
            "1           NaN          NaN           NaN  0.483624        NaN  \n",
            "2           NaN          NaN           NaN  0.407988        NaN  \n",
            "3           NaN          NaN           NaN  1.225988        NaN  \n",
            "4           NaN          NaN           NaN  0.504302        NaN  \n",
            "\n",
            "[5 rows x 6694 columns]\n",
            "https://github.com/DS3001/project_gss/raw/main/gss_chunk_3.parquet\n",
            "   year    id            wrkstat  hrs1  hrs2 evwork  occ  prestige  \\\n",
            "0  2006  1751  working full time  40.0   NaN    NaN  NaN       NaN   \n",
            "1  2006  1752          in school   NaN   NaN    yes  NaN       NaN   \n",
            "2  2006  1753  working full time  35.0   NaN    NaN  NaN       NaN   \n",
            "3  2006  1754  working full time  50.0   NaN    NaN  NaN       NaN   \n",
            "4  2006  1755  working full time  40.0   NaN    NaN  NaN       NaN   \n",
            "\n",
            "         wrkslf     wrkgovt  ...  agehef12 agehef13 agehef14  hompoph  \\\n",
            "0  someone else  government  ...       NaN      NaN      NaN      NaN   \n",
            "1  someone else     private  ...       NaN      NaN      NaN      NaN   \n",
            "2  someone else  government  ...       NaN      NaN      NaN      NaN   \n",
            "3  someone else  government  ...       NaN      NaN      NaN      NaN   \n",
            "4  someone else     private  ...       NaN      NaN      NaN      NaN   \n",
            "\n",
            "  wtssps_nea  wtssnrps_nea  wtssps_next wtssnrps_next  wtsscomp wtsscompnr  \n",
            "0        NaN           NaN          NaN           NaN  1.079141   0.961150  \n",
            "1        NaN           NaN          NaN           NaN  7.673834   6.641571  \n",
            "2        NaN           NaN          NaN           NaN  0.584663   0.512145  \n",
            "3        NaN           NaN          NaN           NaN  0.715731   0.637592  \n",
            "4        NaN           NaN          NaN           NaN  1.094831   0.956094  \n",
            "\n",
            "[5 rows x 6694 columns]\n"
          ]
        }
      ],
      "source": [
        "import pandas as pd\n",
        "#\n",
        "var_list = ['year','suicide1', 'suicide2','suicide3','suicide4'] # List of variables you want to save\n",
        "output_filename = 'gss_suicide_data.csv' # Name of the file you want to save the data to\n",
        "#\n",
        "modes = ['w','a'] # Has write mode and append mode\n",
        "phase = 0 # Starts in write mode; after one iteration of loop, switches to append mode\n",
        "#\n",
        "for k in range(3): # for each chunk of the data\n",
        "    url = 'https://github.com/DS3001/project_gss/raw/main/gss_chunk_' + str(1+k) + '.parquet' # Create url to the chunk to be processed\n",
        "    print(url) # Check the url is correct\n",
        "    df = pd.read_parquet(url) # Download this chunk of data\n",
        "    print(df.head()) # Visually inspect the first few rows\n",
        "    df.loc[:,var_list].to_csv(output_filename, # specifies target file to save the chunk to\n",
        "                              mode=modes[phase], # control write versus append\n",
        "                              header=var_list, # variable names\n",
        "                              index=False) # no row index saved\n",
        "    phase = 1 # Switch from write mode to append mode"
      ]
    },
    {
      "cell_type": "code",
      "source": [
        "df = pd.read_csv('/content/gss_suicide_data.csv')\n",
        "print(df.head())"
      ],
      "metadata": {
        "id": "y3v6pxK4RfDR",
        "outputId": "cbee12e7-be84-4676-d72f-94981b5cfdec",
        "colab": {
          "base_uri": "https://localhost:8080/"
        }
      },
      "id": "y3v6pxK4RfDR",
      "execution_count": 105,
      "outputs": [
        {
          "output_type": "stream",
          "name": "stdout",
          "text": [
            "   year suicide1 suicide2 suicide3 suicide4\n",
            "0  1972      NaN      NaN      NaN      NaN\n",
            "1  1972      NaN      NaN      NaN      NaN\n",
            "2  1972      NaN      NaN      NaN      NaN\n",
            "3  1972      NaN      NaN      NaN      NaN\n",
            "4  1972      NaN      NaN      NaN      NaN\n"
          ]
        }
      ]
    },
    {
      "cell_type": "code",
      "source": [
        "for column in df.columns:\n",
        "    unique_values = df[column].unique()\n",
        "    print(f\"Unique values in {column}:\\n{unique_values}\\n\")"
      ],
      "metadata": {
        "id": "dDn6_TI6SHeo",
        "outputId": "c82b748b-8578-42d8-c687-cc09ba5609e0",
        "colab": {
          "base_uri": "https://localhost:8080/"
        }
      },
      "id": "dDn6_TI6SHeo",
      "execution_count": 106,
      "outputs": [
        {
          "output_type": "stream",
          "name": "stdout",
          "text": [
            "Unique values in year:\n",
            "['1972' '1973' '1974' '1975' '1976' '1977' '1978' '1980' '1982' '1983'\n",
            " '1984' '1985' '1986' '1987' '1988' '1989' 'year' '1990' '1991' '1993'\n",
            " '1994' '1996' '1998' '2000' '2002' '2004' '2006' '2008' '2010' '2012'\n",
            " '2014' '2016' '2018' '2021' '2022']\n",
            "\n",
            "Unique values in suicide1:\n",
            "[nan 'no' 'yes' 'suicide1']\n",
            "\n",
            "Unique values in suicide2:\n",
            "[nan 'no' 'yes' 'suicide2']\n",
            "\n",
            "Unique values in suicide3:\n",
            "[nan 'no' 'yes' 'suicide3']\n",
            "\n",
            "Unique values in suicide4:\n",
            "[nan 'no' 'yes' 'suicide4']\n",
            "\n"
          ]
        }
      ]
    },
    {
      "cell_type": "markdown",
      "source": [
        "> In the codebook, there are labels for all four suicide variables: YES (yes), NO (no), DONT'T KNOW(D), NO ANSWER(N), NOT APPLICABLE (I), SKIPPED ON WEB(S) – a total of 6 labels. Besides 'yes' or 'no', others appear as reserved codes.\n",
        "\n",
        "> As shown in the summary above, all four suicide variables only have 3 unique values: 'yes', 'no', or 'nan'. So, before the dataset is output, it seems like the unuseful and uninformative values have already been cleaned into 'NaN'."
      ],
      "metadata": {
        "id": "RRpKS_zpSvOz"
      },
      "id": "RRpKS_zpSvOz"
    },
    {
      "cell_type": "code",
      "source": [
        "summary = pd.DataFrame({\n",
        "    'Variable': ['suicide1', 'suicide2', 'suicide3', 'suicide4'],\n",
        "    'NaN Count': [df['suicide1'].isna().sum(), df['suicide2'].isna().sum(), df['suicide3'].isna().sum(), df['suicide4'].isna().sum()],\n",
        "    'Yes Count': [df['suicide1'].eq('yes').sum(), df['suicide2'].eq('yes').sum(), df['suicide3'].eq('yes').sum(), df['suicide4'].eq('yes').sum()],\n",
        "    'No Count': [df['suicide1'].eq('no').sum(), df['suicide2'].eq('no').sum(), df['suicide3'].eq('no').sum(), df['suicide4'].eq('no').sum()],\n",
        "})\n",
        "\n",
        "print(summary)"
      ],
      "metadata": {
        "id": "b-PbaIVeQg8P",
        "outputId": "524ff61e-9609-4c25-f529-81cdd094c022",
        "colab": {
          "base_uri": "https://localhost:8080/"
        }
      },
      "id": "b-PbaIVeQg8P",
      "execution_count": 107,
      "outputs": [
        {
          "output_type": "stream",
          "name": "stdout",
          "text": [
            "   Variable  NaN Count  Yes Count  No Count\n",
            "0  suicide1      36268      20771     15351\n",
            "1  suicide2      35322       3437     33631\n",
            "2  suicide3      35385       3411     33594\n",
            "3  suicide4      35809       6160     30421\n"
          ]
        }
      ]
    },
    {
      "cell_type": "code",
      "source": [
        "import matplotlib.pyplot as plt\n",
        "\n",
        "nan_counts = df.groupby('year')['suicide1'].apply(lambda x: x.isna().sum())\n",
        "\n",
        "# Plot the trend over years\n",
        "plt.figure(figsize=(10, 6))\n",
        "plt.plot(nan_counts.index, nan_counts.values, label='suicide1 NaN')\n",
        "\n",
        "plt.xlabel('Year')\n",
        "plt.ylabel('NaN Count')\n",
        "plt.title('Trend of NaN Values Over Years for Suicide1')\n",
        "plt.legend()\n",
        "plt.show()"
      ],
      "metadata": {
        "id": "X9hRr4q7Vr-X",
        "outputId": "b136a5ac-11f2-45d1-c189-77e8e867dd53",
        "colab": {
          "base_uri": "https://localhost:8080/",
          "height": 564
        }
      },
      "id": "X9hRr4q7Vr-X",
      "execution_count": 108,
      "outputs": [
        {
          "output_type": "display_data",
          "data": {
            "text/plain": [
              "<Figure size 1000x600 with 1 Axes>"
            ],
            "image/png": "[encoded data removed]"
          },
          "metadata": {}
        }
      ]
    },
    {
      "cell_type": "code",
      "source": [
        "# Check Vars type\n",
        "print(df.dtypes)"
      ],
      "metadata": {
        "id": "b2bsWM0EbKkh",
        "outputId": "5de10bd5-901d-4556-8edd-a2fc05d27203",
        "colab": {
          "base_uri": "https://localhost:8080/"
        }
      },
      "id": "b2bsWM0EbKkh",
      "execution_count": 109,
      "outputs": [
        {
          "output_type": "stream",
          "name": "stdout",
          "text": [
            "year        object\n",
            "suicide1    object\n",
            "suicide2    object\n",
            "suicide3    object\n",
            "suicide4    object\n",
            "dtype: object\n"
          ]
        }
      ]
    },
    {
      "cell_type": "code",
      "source": [
        "# Convert categorical to numerical\n",
        "df['year'] = pd.to_numeric(df['year'], errors='coerce').astype('Int64')\n",
        "\n",
        "yes_no_mapping = {'yes': 1, 'no': 0}\n",
        "# Apply the mapping using a for loop\n",
        "for col in ['suicide1', 'suicide2', 'suicide3', 'suicide4']:\n",
        "    df[col] = df[col].map(yes_no_mapping)"
      ],
      "metadata": {
        "id": "XFxKE4wYa3n8"
      },
      "id": "XFxKE4wYa3n8",
      "execution_count": 110,
      "outputs": []
    },
    {
      "cell_type": "code",
      "source": [
        "print(df.dtypes)\n",
        "# convert done"
      ],
      "metadata": {
        "id": "YqUSbRHXbV54",
        "outputId": "f2884834-2dc2-4612-eff6-6cb9d6ec00f4",
        "colab": {
          "base_uri": "https://localhost:8080/"
        }
      },
      "id": "YqUSbRHXbV54",
      "execution_count": 111,
      "outputs": [
        {
          "output_type": "stream",
          "name": "stdout",
          "text": [
            "year          Int64\n",
            "suicide1    float64\n",
            "suicide2    float64\n",
            "suicide3    float64\n",
            "suicide4    float64\n",
            "dtype: object\n"
          ]
        }
      ]
    },
    {
      "cell_type": "code",
      "source": [
        "# Clean NaN\n",
        "df = df.dropna(subset=['year','suicide1', 'suicide2', 'suicide3', 'suicide4'])\n",
        "print(df.head())"
      ],
      "metadata": {
        "id": "Fy57o-86eEBN",
        "outputId": "48860d3a-a0e7-40a0-9857-5ae4a46523ad",
        "colab": {
          "base_uri": "https://localhost:8080/"
        }
      },
      "id": "Fy57o-86eEBN",
      "execution_count": 113,
      "outputs": [
        {
          "output_type": "stream",
          "name": "stdout",
          "text": [
            "      year  suicide1  suicide2  suicide3  suicide4\n",
            "7590  1977       0.0       0.0       0.0       0.0\n",
            "7591  1977       1.0       1.0       1.0       1.0\n",
            "7592  1977       0.0       0.0       0.0       0.0\n",
            "7593  1977       1.0       0.0       0.0       0.0\n",
            "7594  1977       1.0       0.0       0.0       0.0\n"
          ]
        }
      ]
    },
    {
      "cell_type": "code",
      "source": [
        "df.isna().sum()\n",
        "# cleaned"
      ],
      "metadata": {
        "id": "yf2D1kx4ejlu",
        "outputId": "1716f902-cd5d-43d1-bae2-9a531aced7d0",
        "colab": {
          "base_uri": "https://localhost:8080/"
        }
      },
      "id": "yf2D1kx4ejlu",
      "execution_count": 114,
      "outputs": [
        {
          "output_type": "execute_result",
          "data": {
            "text/plain": [
              "year        0\n",
              "suicide1    0\n",
              "suicide2    0\n",
              "suicide3    0\n",
              "suicide4    0\n",
              "dtype: int64"
            ]
          },
          "metadata": {},
          "execution_count": 114
        }
      ]
    },
    {
      "cell_type": "code",
      "source": [
        "df.sort_values('year')\n",
        "#make sure the dataset is sorted along years"
      ],
      "metadata": {
        "id": "yCjVI0tXe2YR",
        "outputId": "ce0fd509-a009-4f14-c2d8-a3121b94d1b5",
        "colab": {
          "base_uri": "https://localhost:8080/",
          "height": 424
        }
      },
      "id": "yCjVI0tXe2YR",
      "execution_count": 115,
      "outputs": [
        {
          "output_type": "execute_result",
          "data": {
            "text/plain": [
              "       year  suicide1  suicide2  suicide3  suicide4\n",
              "7590   1977       0.0       0.0       0.0       0.0\n",
              "8616   1977       0.0       0.0       0.0       0.0\n",
              "8615   1977       1.0       0.0       0.0       0.0\n",
              "8614   1977       1.0       0.0       0.0       0.0\n",
              "8613   1977       0.0       0.0       0.0       0.0\n",
              "...     ...       ...       ...       ...       ...\n",
              "70036  2022       0.0       0.0       0.0       0.0\n",
              "70035  2022       0.0       0.0       0.0       0.0\n",
              "70033  2022       1.0       0.0       0.0       0.0\n",
              "70054  2022       1.0       0.0       0.0       0.0\n",
              "72391  2022       1.0       1.0       0.0       1.0\n",
              "\n",
              "[34891 rows x 5 columns]"
            ],
            "text/html": [
              "\n",
              "  <div id=\"df-7d909281-ee75-40c7-ad15-a13a800040fb\" class=\"colab-df-container\">\n",
              "    <div>\n",
              "<style scoped>\n",
              "    .dataframe tbody tr th:only-of-type {\n",
              "        vertical-align: middle;\n",
              "    }\n",
              "\n",
              "    .dataframe tbody tr th {\n",
              "        vertical-align: top;\n",
              "    }\n",
              "\n",
              "    .dataframe thead th {\n",
              "        text-align: right;\n",
              "    }\n",
              "</style>\n",
              "<table border=\"1\" class=\"dataframe\">\n",
              "  <thead>\n",
              "    <tr style=\"text-align: right;\">\n",
              "      <th></th>\n",
              "      <th>year</th>\n",
              "      <th>suicide1</th>\n",
              "      <th>suicide2</th>\n",
              "      <th>suicide3</th>\n",
              "      <th>suicide4</th>\n",
              "    </tr>\n",
              "  </thead>\n",
              "  <tbody>\n",
              "    <tr>\n",
              "      <th>7590</th>\n",
              "      <td>1977</td>\n",
              "      <td>0.0</td>\n",
              "      <td>0.0</td>\n",
              "      <td>0.0</td>\n",
              "      <td>0.0</td>\n",
              "    </tr>\n",
              "    <tr>\n",
              "      <th>8616</th>\n",
              "      <td>1977</td>\n",
              "      <td>0.0</td>\n",
              "      <td>0.0</td>\n",
              "      <td>0.0</td>\n",
              "      <td>0.0</td>\n",
              "    </tr>\n",
              "    <tr>\n",
              "      <th>8615</th>\n",
              "      <td>1977</td>\n",
              "      <td>1.0</td>\n",
              "      <td>0.0</td>\n",
              "      <td>0.0</td>\n",
              "      <td>0.0</td>\n",
              "    </tr>\n",
              "    <tr>\n",
              "      <th>8614</th>\n",
              "      <td>1977</td>\n",
              "      <td>1.0</td>\n",
              "      <td>0.0</td>\n",
              "      <td>0.0</td>\n",
              "      <td>0.0</td>\n",
              "    </tr>\n",
              "    <tr>\n",
              "      <th>8613</th>\n",
              "      <td>1977</td>\n",
              "      <td>0.0</td>\n",
              "      <td>0.0</td>\n",
              "      <td>0.0</td>\n",
              "      <td>0.0</td>\n",
              "    </tr>\n",
              "    <tr>\n",
              "      <th>...</th>\n",
              "      <td>...</td>\n",
              "      <td>...</td>\n",
              "      <td>...</td>\n",
              "      <td>...</td>\n",
              "      <td>...</td>\n",
              "    </tr>\n",
              "    <tr>\n",
              "      <th>70036</th>\n",
              "      <td>2022</td>\n",
              "      <td>0.0</td>\n",
              "      <td>0.0</td>\n",
              "      <td>0.0</td>\n",
              "      <td>0.0</td>\n",
              "    </tr>\n",
              "    <tr>\n",
              "      <th>70035</th>\n",
              "      <td>2022</td>\n",
              "      <td>0.0</td>\n",
              "      <td>0.0</td>\n",
              "      <td>0.0</td>\n",
              "      <td>0.0</td>\n",
              "    </tr>\n",
              "    <tr>\n",
              "      <th>70033</th>\n",
              "      <td>2022</td>\n",
              "      <td>1.0</td>\n",
              "      <td>0.0</td>\n",
              "      <td>0.0</td>\n",
              "      <td>0.0</td>\n",
              "    </tr>\n",
              "    <tr>\n",
              "      <th>70054</th>\n",
              "      <td>2022</td>\n",
              "      <td>1.0</td>\n",
              "      <td>0.0</td>\n",
              "      <td>0.0</td>\n",
              "      <td>0.0</td>\n",
              "    </tr>\n",
              "    <tr>\n",
              "      <th>72391</th>\n",
              "      <td>2022</td>\n",
              "      <td>1.0</td>\n",
              "      <td>1.0</td>\n",
              "      <td>0.0</td>\n",
              "      <td>1.0</td>\n",
              "    </tr>\n",
              "  </tbody>\n",
              "</table>\n",
              "<p>34891 rows × 5 columns</p>\n",
              "</div>\n",
              "    <div class=\"colab-df-buttons\">\n",
              "\n",
              "  <div class=\"colab-df-container\">\n",
              "    <button class=\"colab-df-convert\" onclick=\"convertToInteractive('df-7d909281-ee75-40c7-ad15-a13a800040fb')\"\n",
              "            title=\"Convert this dataframe to an interactive table.\"\n",
              "            style=\"display:none;\">\n",
              "\n",
              "  <svg xmlns=\"http://www.w3.org/2000/svg\" height=\"24px\" viewBox=\"0 -960 960 960\">\n",
              "    <path d=\"M120-120v-720h720v720H120Zm60-500h600v-160H180v160Zm220 220h160v-160H400v160Zm0 220h160v-160H400v160ZM180-400h160v-160H180v160Zm440 0h160v-160H620v160ZM180-180h160v-160H180v160Zm440 0h160v-160H620v160Z\"/>\n",
              "  </svg>\n",
              "    </button>\n",
              "\n",
              "  <style>\n",
              "    .colab-df-container {\n",
              "      display:flex;\n",
              "      gap: 12px;\n",
              "    }\n",
              "\n",
              "    .colab-df-convert {\n",
              "      background-color: #E8F0FE;\n",
              "      border: none;\n",
              "      border-radius: 50%;\n",
              "      cursor: pointer;\n",
              "      display: none;\n",
              "      fill: #1967D2;\n",
              "      height: 32px;\n",
              "      padding: 0 0 0 0;\n",
              "      width: 32px;\n",
              "    }\n",
              "\n",
              "    .colab-df-convert:hover {\n",
              "      background-color: #E2EBFA;\n",
              "      box-shadow: 0px 1px 2px rgba(60, 64, 67, 0.3), 0px 1px 3px 1px rgba(60, 64, 67, 0.15);\n",
              "      fill: #174EA6;\n",
              "    }\n",
              "\n",
              "    .colab-df-buttons div {\n",
              "      margin-bottom: 4px;\n",
              "    }\n",
              "\n",
              "    [theme=dark] .colab-df-convert {\n",
              "      background-color: #3B4455;\n",
              "      fill: #D2E3FC;\n",
              "    }\n",
              "\n",
              "    [theme=dark] .colab-df-convert:hover {\n",
              "      background-color: #434B5C;\n",
              "      box-shadow: 0px 1px 3px 1px rgba(0, 0, 0, 0.15);\n",
              "      filter: drop-shadow(0px 1px 2px rgba(0, 0, 0, 0.3));\n",
              "      fill: #FFFFFF;\n",
              "    }\n",
              "  </style>\n",
              "\n",
              "    <script>\n",
              "      const buttonEl =\n",
              "        document.querySelector('#df-7d909281-ee75-40c7-ad15-a13a800040fb button.colab-df-convert');\n",
              "      buttonEl.style.display =\n",
              "        google.colab.kernel.accessAllowed ? 'block' : 'none';\n",
              "\n",
              "      async function convertToInteractive(key) {\n",
              "        const element = document.querySelector('#df-7d909281-ee75-40c7-ad15-a13a800040fb');\n",
              "        const dataTable =\n",
              "          await google.colab.kernel.invokeFunction('convertToInteractive',\n",
              "                                                    [key], {});\n",
              "        if (!dataTable) return;\n",
              "\n",
              "        const docLinkHtml = 'Like what you see? Visit the ' +\n",
              "          '<a target=\"_blank\" href=https://colab.research.google.com/notebooks/data_table.ipynb>data table notebook</a>'\n",
              "          + ' to learn more about interactive tables.';\n",
              "        element.innerHTML = '';\n",
              "        dataTable['output_type'] = 'display_data';\n",
              "        await google.colab.output.renderOutput(dataTable, element);\n",
              "        const docLink = document.createElement('div');\n",
              "        docLink.innerHTML = docLinkHtml;\n",
              "        element.appendChild(docLink);\n",
              "      }\n",
              "    </script>\n",
              "  </div>\n",
              "\n",
              "\n",
              "<div id=\"df-f59cd3ac-f0f1-4222-823a-59783825c64f\">\n",
              "  <button class=\"colab-df-quickchart\" onclick=\"quickchart('df-f59cd3ac-f0f1-4222-823a-59783825c64f')\"\n",
              "            title=\"Suggest charts\"\n",
              "            style=\"display:none;\">\n",
              "\n",
              "<svg xmlns=\"http://www.w3.org/2000/svg\" height=\"24px\"viewBox=\"0 0 24 24\"\n",
              "     width=\"24px\">\n",
              "    <g>\n",
              "        <path d=\"M19 3H5c-1.1 0-2 .9-2 2v14c0 1.1.9 2 2 2h14c1.1 0 2-.9 2-2V5c0-1.1-.9-2-2-2zM9 17H7v-7h2v7zm4 0h-2V7h2v10zm4 0h-2v-4h2v4z\"/>\n",
              "    </g>\n",
              "</svg>\n",
              "  </button>\n",
              "\n",
              "<style>\n",
              "  .colab-df-quickchart {\n",
              "      --bg-color: #E8F0FE;\n",
              "      --fill-color: #1967D2;\n",
              "      --hover-bg-color: #E2EBFA;\n",
              "      --hover-fill-color: #174EA6;\n",
              "      --disabled-fill-color: #AAA;\n",
              "      --disabled-bg-color: #DDD;\n",
              "  }\n",
              "\n",
              "  [theme=dark] .colab-df-quickchart {\n",
              "      --bg-color: #3B4455;\n",
              "      --fill-color: #D2E3FC;\n",
              "      --hover-bg-color: #434B5C;\n",
              "      --hover-fill-color: #FFFFFF;\n",
              "      --disabled-bg-color: #3B4455;\n",
              "      --disabled-fill-color: #666;\n",
              "  }\n",
              "\n",
              "  .colab-df-quickchart {\n",
              "    background-color: var(--bg-color);\n",
              "    border: none;\n",
              "    border-radius: 50%;\n",
              "    cursor: pointer;\n",
              "    display: none;\n",
              "    fill: var(--fill-color);\n",
              "    height: 32px;\n",
              "    padding: 0;\n",
              "    width: 32px;\n",
              "  }\n",
              "\n",
              "  .colab-df-quickchart:hover {\n",
              "    background-color: var(--hover-bg-color);\n",
              "    box-shadow: 0 1px 2px rgba(60, 64, 67, 0.3), 0 1px 3px 1px rgba(60, 64, 67, 0.15);\n",
              "    fill: var(--button-hover-fill-color);\n",
              "  }\n",
              "\n",
              "  .colab-df-quickchart-complete:disabled,\n",
              "  .colab-df-quickchart-complete:disabled:hover {\n",
              "    background-color: var(--disabled-bg-color);\n",
              "    fill: var(--disabled-fill-color);\n",
              "    box-shadow: none;\n",
              "  }\n",
              "\n",
              "  .colab-df-spinner {\n",
              "    border: 2px solid var(--fill-color);\n",
              "    border-color: transparent;\n",
              "    border-bottom-color: var(--fill-color);\n",
              "    animation:\n",
              "      spin 1s steps(1) infinite;\n",
              "  }\n",
              "\n",
              "  @keyframes spin {\n",
              "    0% {\n",
              "      border-color: transparent;\n",
              "      border-bottom-color: var(--fill-color);\n",
              "      border-left-color: var(--fill-color);\n",
              "    }\n",
              "    20% {\n",
              "      border-color: transparent;\n",
              "      border-left-color: var(--fill-color);\n",
              "      border-top-color: var(--fill-color);\n",
              "    }\n",
              "    30% {\n",
              "      border-color: transparent;\n",
              "      border-left-color: var(--fill-color);\n",
              "      border-top-color: var(--fill-color);\n",
              "      border-right-color: var(--fill-color);\n",
              "    }\n",
              "    40% {\n",
              "      border-color: transparent;\n",
              "      border-right-color: var(--fill-color);\n",
              "      border-top-color: var(--fill-color);\n",
              "    }\n",
              "    60% {\n",
              "      border-color: transparent;\n",
              "      border-right-color: var(--fill-color);\n",
              "    }\n",
              "    80% {\n",
              "      border-color: transparent;\n",
              "      border-right-color: var(--fill-color);\n",
              "      border-bottom-color: var(--fill-color);\n",
              "    }\n",
              "    90% {\n",
              "      border-color: transparent;\n",
              "      border-bottom-color: var(--fill-color);\n",
              "    }\n",
              "  }\n",
              "</style>\n",
              "\n",
              "  <script>\n",
              "    async function quickchart(key) {\n",
              "      const quickchartButtonEl =\n",
              "        document.querySelector('#' + key + ' button');\n",
              "      quickchartButtonEl.disabled = true;  // To prevent multiple clicks.\n",
              "      quickchartButtonEl.classList.add('colab-df-spinner');\n",
              "      try {\n",
              "        const charts = await google.colab.kernel.invokeFunction(\n",
              "            'suggestCharts', [key], {});\n",
              "      } catch (error) {\n",
              "        console.error('Error during call to suggestCharts:', error);\n",
              "      }\n",
              "      quickchartButtonEl.classList.remove('colab-df-spinner');\n",
              "      quickchartButtonEl.classList.add('colab-df-quickchart-complete');\n",
              "    }\n",
              "    (() => {\n",
              "      let quickchartButtonEl =\n",
              "        document.querySelector('#df-f59cd3ac-f0f1-4222-823a-59783825c64f button');\n",
              "      quickchartButtonEl.style.display =\n",
              "        google.colab.kernel.accessAllowed ? 'block' : 'none';\n",
              "    })();\n",
              "  </script>\n",
              "</div>\n",
              "    </div>\n",
              "  </div>\n"
            ],
            "application/vnd.google.colaboratory.intrinsic+json": {
              "type": "dataframe",
              "summary": "{\n  \"name\": \"#make sure the dataset is sorted along years\",\n  \"rows\": 34891,\n  \"fields\": [\n    {\n      \"column\": \"year\",\n      \"properties\": {\n        \"dtype\": \"Int64\",\n        \"num_unique_values\": 26,\n        \"samples\": [\n          \"1990\",\n          \"2004\",\n          \"1977\"\n        ],\n        \"semantic_type\": \"\",\n        \"description\": \"\"\n      }\n    },\n    {\n      \"column\": \"suicide1\",\n      \"properties\": {\n        \"dtype\": \"number\",\n        \"std\": 0.495925659813823,\n        \"min\": 0.0,\n        \"max\": 1.0,\n        \"num_unique_values\": 2,\n        \"samples\": [\n          1.0,\n          0.0\n        ],\n        \"semantic_type\": \"\",\n        \"description\": \"\"\n      }\n    },\n    {\n      \"column\": \"suicide2\",\n      \"properties\": {\n        \"dtype\": \"number\",\n        \"std\": 0.29449575909672643,\n        \"min\": 0.0,\n        \"max\": 1.0,\n        \"num_unique_values\": 2,\n        \"samples\": [\n          1.0,\n          0.0\n        ],\n        \"semantic_type\": \"\",\n        \"description\": \"\"\n      }\n    },\n    {\n      \"column\": \"suicide3\",\n      \"properties\": {\n        \"dtype\": \"number\",\n        \"std\": 0.2943777449793169,\n        \"min\": 0.0,\n        \"max\": 1.0,\n        \"num_unique_values\": 2,\n        \"samples\": [\n          1.0,\n          0.0\n        ],\n        \"semantic_type\": \"\",\n        \"description\": \"\"\n      }\n    },\n    {\n      \"column\": \"suicide4\",\n      \"properties\": {\n        \"dtype\": \"number\",\n        \"std\": 0.37436243288052934,\n        \"min\": 0.0,\n        \"max\": 1.0,\n        \"num_unique_values\": 2,\n        \"samples\": [\n          1.0,\n          0.0\n        ],\n        \"semantic_type\": \"\",\n        \"description\": \"\"\n      }\n    }\n  ]\n}"
            }
          },
          "metadata": {},
          "execution_count": 115
        }
      ]
    }
  ],
  "metadata": {
    "kernelspec": {
      "display_name": "Python 3 (ipykernel)",
      "language": "python",
      "name": "python3"
    },
    "language_info": {
      "codemirror_mode": {
        "name": "ipython",
        "version": 3
      },
      "file_extension": ".py",
      "mimetype": "text/x-python",
      "name": "python",
      "nbconvert_exporter": "python",
      "pygments_lexer": "ipython3",
      "version": "3.11.4"
    },
    "colab": {
      "provenance": [],
      "toc_visible": true
    }
  },
  "nbformat": 4,
  "nbformat_minor": 5
}