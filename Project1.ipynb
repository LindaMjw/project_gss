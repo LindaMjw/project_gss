{
  "nbformat": 4,
  "nbformat_minor": 0,
  "metadata": {
    "colab": {
      "provenance": [],
      "toc_visible": true,
      "authorship_tag": "ABX9TyMABYIyI4YaO1jGmy8qdJZ8"
    },
    "kernelspec": {
      "name": "python3",
      "display_name": "Python 3"
    },
    "language_info": {
      "name": "python"
    }
  },
  "cells": [
    {
      "cell_type": "markdown",
      "source": [
        "# Trends in Public Attitudes towards Abortion\n",
        "\n"
      ],
      "metadata": {
        "id": "i2JlSLW1gqaY"
      }
    },
    {
      "cell_type": "markdown",
      "source": [
        "Anisha Poudel, Jinwen Mu\n",
        "\n",
        "\n",
        "\n",
        "\n"
      ],
      "metadata": {
        "id": "pgWBmFWDhcoN"
      }
    },
    {
      "cell_type": "markdown",
      "source": [
        "## Summary\n",
        "\n",
        "This study examines public opinion on the acceptability of suicide under different circumstances over the years. The data is extracted from the General Social Survey, spanning across several decades. For our examination, we focus on four distinct reasons of suicide: incurable disease (*suicide1*), bankruptcy (*suicide2*), family dishonor (suicide3), and weariness of life (*suicide4*).  The research question we have chosen is “how have attitudes towards suicide changed over the years?”. We found this important question to research since mental health is a critical concern among college students and adults. Attaining this insight might aid with improving mental health recovery. The analysis employs data cleaning, trend analysis, and statistical visualization techniques to parse out the social attitudes over the decades. The findings indicate that there is a perceived difference in public opinion for different justifications. Health related reasons were more accepted, while those based on financial or personal dishonor were less so.\n"
      ],
      "metadata": {
        "id": "wPdAZHmihFUT"
      }
    },
    {
      "cell_type": "markdown",
      "source": [
        "## Data\n",
        "\n",
        "The dataset for this analysis is acquired from the General Social Survey (GSS), a sociological survey collected by the National Opinion Research Center. The GSS collects data to explain trends and constants in attitudes and behavior in American Society. The specific dataset for this analysis looks at the justifiability of suicide under various circumstances over the last few decades.\n",
        "\n",
        "For this particular analysis, key variables were selected based on their relevance to the study: How have attitudes towards suicide changed over the years? For this, we analyzed four key variables to understand if society deems it justifiable to commit suicide if they suffer from an incurable disease (*suicide1*), if they have gone bankrupt (*suicide2*), if they have dishonored their family (*suicide3*), or if they are tired if living (*suicide4*). These variables are specifically chosen for their potential to gain insight of the societal attitudes towards suicide.\n",
        "\n",
        " One of the main challenges working with this dataset was managing the size of it. By working with certain smaller data chunks and loading on at a time into memory, this issue was mitigated. When doing this, we had to ensure that we carefully merged the chunks together to ensure consistency and accuracy across the dataset.\n",
        "\n",
        "Missing data led to challenges of its own, mainly due to missing values. The dataset comprised a significant amount of missing data, which was labeled ‘NaN’. The  missing data consist of different labels for non-responses such as “Don’t Know”, “No Answer”, and “Not Applicable”. The good news is that the GSS dataset already standardize these non-responses to “NaN '' for clarity and consistency.\n",
        "\n",
        "As mentioned above, there is a about more than 50% missing values in total of four suicide variables. In addition, the variables we chose are relatively mode sensitive. Shown in the GSS 2022 codebook, '*SUICIDE1*' requires further investigation, '*SUICIDE4*' is consider as less likely to be mode sensitive, while the other 2 suicide variables have not been accessed by the GSS team at that time. Furthermore, there is no default value for these variables. And the only value for them are 'YES'(1) or 'NO'(0), so we can't impute the missing values with mean, median nor mode. According to the above information, we decide to clean all the NaNs.\n",
        "\n",
        "Once the key variables were isolated, further data cleaning was necessary. The year variable needs to be converted from a categorical to a numerical format to maintain consistency and facilitate time trend analysis. The suicide related variables, which were initially categorical, were mapped to numerical values, 0 and 1, to simplify the calculation of response frequencies and percentage. This conversion was necessary for analysis as it focused on quantifying the public opinion regarding the justifiability of suicide.\n"
      ],
      "metadata": {
        "id": "sfFVX4G3hU0z"
      }
    },
    {
      "cell_type": "code",
      "execution_count": 27,
      "metadata": {
        "id": "898a40de-9f3d-4dfc-8878-cd3badfdbcec",
        "outputId": "dec469d7-23c9-4b32-ae30-4eaba8f90e11",
        "colab": {
          "base_uri": "https://localhost:8080/"
        }
      },
      "outputs": [
        {
          "output_type": "stream",
          "name": "stdout",
          "text": [
            "https://github.com/DS3001/project_gss/raw/main/gss_chunk_1.parquet\n",
            "   year  id            wrkstat  hrs1  hrs2 evwork    occ  prestige  \\\n",
            "0  1972   1  working full time   NaN   NaN    NaN  205.0      50.0   \n",
            "1  1972   2            retired   NaN   NaN    yes  441.0      45.0   \n",
            "2  1972   3  working part time   NaN   NaN    NaN  270.0      44.0   \n",
            "3  1972   4  working full time   NaN   NaN    NaN    1.0      57.0   \n",
            "4  1972   5      keeping house   NaN   NaN    yes  385.0      40.0   \n",
            "\n",
            "         wrkslf wrkgovt  ...  agehef12 agehef13 agehef14  hompoph wtssps_nea  \\\n",
            "0  someone else     NaN  ...       NaN      NaN      NaN      NaN        NaN   \n",
            "1  someone else     NaN  ...       NaN      NaN      NaN      NaN        NaN   \n",
            "2  someone else     NaN  ...       NaN      NaN      NaN      NaN        NaN   \n",
            "3  someone else     NaN  ...       NaN      NaN      NaN      NaN        NaN   \n",
            "4  someone else     NaN  ...       NaN      NaN      NaN      NaN        NaN   \n",
            "\n",
            "   wtssnrps_nea  wtssps_next wtssnrps_next wtsscomp wtsscompnr  \n",
            "0           NaN          NaN           NaN   0.4446        NaN  \n",
            "1           NaN          NaN           NaN   0.8893        NaN  \n",
            "2           NaN          NaN           NaN   0.8893        NaN  \n",
            "3           NaN          NaN           NaN   0.8893        NaN  \n",
            "4           NaN          NaN           NaN   0.8893        NaN  \n",
            "\n",
            "[5 rows x 6694 columns]\n",
            "https://github.com/DS3001/project_gss/raw/main/gss_chunk_2.parquet\n",
            "   year   id            wrkstat  hrs1  hrs2 evwork    occ  prestige  \\\n",
            "0  1989  775            retired   NaN   NaN    yes  540.0      36.0   \n",
            "1  1989  776  working full time  40.0   NaN    NaN  925.0      36.0   \n",
            "2  1989  777            retired   NaN   NaN    yes   80.0      61.0   \n",
            "3  1989  778  working full time  44.0   NaN    NaN  912.0      26.0   \n",
            "4  1989  779            retired   NaN   NaN    yes  690.0      32.0   \n",
            "\n",
            "         wrkslf wrkgovt  ...  agehef12 agehef13 agehef14  hompoph wtssps_nea  \\\n",
            "0  someone else     NaN  ...       NaN      NaN      NaN      NaN        NaN   \n",
            "1  someone else     NaN  ...       NaN      NaN      NaN      NaN        NaN   \n",
            "2  someone else     NaN  ...       NaN      NaN      NaN      NaN        NaN   \n",
            "3  someone else     NaN  ...       NaN      NaN      NaN      NaN        NaN   \n",
            "4  someone else     NaN  ...       NaN      NaN      NaN      NaN        NaN   \n",
            "\n",
            "   wtssnrps_nea  wtssps_next wtssnrps_next  wtsscomp wtsscompnr  \n",
            "0           NaN          NaN           NaN  1.295069        NaN  \n",
            "1           NaN          NaN           NaN  0.483624        NaN  \n",
            "2           NaN          NaN           NaN  0.407988        NaN  \n",
            "3           NaN          NaN           NaN  1.225988        NaN  \n",
            "4           NaN          NaN           NaN  0.504302        NaN  \n",
            "\n",
            "[5 rows x 6694 columns]\n",
            "https://github.com/DS3001/project_gss/raw/main/gss_chunk_3.parquet\n",
            "   year    id            wrkstat  hrs1  hrs2 evwork  occ  prestige  \\\n",
            "0  2006  1751  working full time  40.0   NaN    NaN  NaN       NaN   \n",
            "1  2006  1752          in school   NaN   NaN    yes  NaN       NaN   \n",
            "2  2006  1753  working full time  35.0   NaN    NaN  NaN       NaN   \n",
            "3  2006  1754  working full time  50.0   NaN    NaN  NaN       NaN   \n",
            "4  2006  1755  working full time  40.0   NaN    NaN  NaN       NaN   \n",
            "\n",
            "         wrkslf     wrkgovt  ...  agehef12 agehef13 agehef14  hompoph  \\\n",
            "0  someone else  government  ...       NaN      NaN      NaN      NaN   \n",
            "1  someone else     private  ...       NaN      NaN      NaN      NaN   \n",
            "2  someone else  government  ...       NaN      NaN      NaN      NaN   \n",
            "3  someone else  government  ...       NaN      NaN      NaN      NaN   \n",
            "4  someone else     private  ...       NaN      NaN      NaN      NaN   \n",
            "\n",
            "  wtssps_nea  wtssnrps_nea  wtssps_next wtssnrps_next  wtsscomp wtsscompnr  \n",
            "0        NaN           NaN          NaN           NaN  1.079141   0.961150  \n",
            "1        NaN           NaN          NaN           NaN  7.673834   6.641571  \n",
            "2        NaN           NaN          NaN           NaN  0.584663   0.512145  \n",
            "3        NaN           NaN          NaN           NaN  0.715731   0.637592  \n",
            "4        NaN           NaN          NaN           NaN  1.094831   0.956094  \n",
            "\n",
            "[5 rows x 6694 columns]\n"
          ]
        }
      ],
      "source": [
        "# Get data set with variables we need\n",
        "import pandas as pd\n",
        "\n",
        "var_list = ['year','suicide1', 'suicide2','suicide3','suicide4'] # List of variables we need for this project\n",
        "output_filename = 'gss_suicide_data.csv' # Name of the file you want to save the data to\n",
        "\n",
        "modes = ['w','a'] # Has write mode and append mode\n",
        "phase = 0 # Starts in write mode; after one iteration of loop, switches to append mode\n",
        "\n",
        "for k in range(3): # for each chunk of the data\n",
        "    url = 'https://github.com/DS3001/project_gss/raw/main/gss_chunk_' + str(1+k) + '.parquet' # Create url to the chunk to be processed\n",
        "    print(url) # Check the url is correct\n",
        "    df = pd.read_parquet(url) # Download this chunk of data\n",
        "    print(df.head()) # Visually inspect the first few rows\n",
        "    df.loc[:,var_list].to_csv(output_filename, # specifies target file to save the chunk to\n",
        "                              mode=modes[phase], # control write versus append\n",
        "                              header=var_list, # variable names\n",
        "                              index=False) # no row index saved\n",
        "    phase = 1 # Switch from write mode to append mode"
      ]
    },
    {
      "cell_type": "code",
      "source": [
        "# read in the dataset\n",
        "df = pd.read_csv('/content/gss_suicide_data.csv')\n",
        "print(df.head()) # check if I got all the variables I want"
      ],
      "metadata": {
        "colab": {
          "base_uri": "https://localhost:8080/"
        },
        "id": "y3v6pxK4RfDR",
        "outputId": "3b6ccd75-9fcf-4868-eace-292d96b0c437"
      },
      "execution_count": 28,
      "outputs": [
        {
          "output_type": "stream",
          "name": "stdout",
          "text": [
            "   year suicide1 suicide2 suicide3 suicide4\n",
            "0  1972      NaN      NaN      NaN      NaN\n",
            "1  1972      NaN      NaN      NaN      NaN\n",
            "2  1972      NaN      NaN      NaN      NaN\n",
            "3  1972      NaN      NaN      NaN      NaN\n",
            "4  1972      NaN      NaN      NaN      NaN\n"
          ]
        }
      ]
    },
    {
      "cell_type": "code",
      "source": [
        "# check possible values in each variable for wrangling purpose\n",
        "for column in df.columns:\n",
        "    unique_values = df[column].unique()\n",
        "    print(f\"Unique values in {column}:\\n{unique_values}\\n\")"
      ],
      "metadata": {
        "colab": {
          "base_uri": "https://localhost:8080/"
        },
        "id": "dDn6_TI6SHeo",
        "outputId": "8892f092-6710-420e-c32a-e87ac4dc3c87"
      },
      "execution_count": 29,
      "outputs": [
        {
          "output_type": "stream",
          "name": "stdout",
          "text": [
            "Unique values in year:\n",
            "['1972' '1973' '1974' '1975' '1976' '1977' '1978' '1980' '1982' '1983'\n",
            " '1984' '1985' '1986' '1987' '1988' '1989' 'year' '1990' '1991' '1993'\n",
            " '1994' '1996' '1998' '2000' '2002' '2004' '2006' '2008' '2010' '2012'\n",
            " '2014' '2016' '2018' '2021' '2022']\n",
            "\n",
            "Unique values in suicide1:\n",
            "[nan 'no' 'yes' 'suicide1']\n",
            "\n",
            "Unique values in suicide2:\n",
            "[nan 'no' 'yes' 'suicide2']\n",
            "\n",
            "Unique values in suicide3:\n",
            "[nan 'no' 'yes' 'suicide3']\n",
            "\n",
            "Unique values in suicide4:\n",
            "[nan 'no' 'yes' 'suicide4']\n",
            "\n"
          ]
        }
      ]
    },
    {
      "cell_type": "code",
      "source": [
        "# get the value cocunt for each suicide variable\n",
        "# no need to get the summary for 'year' since it has no NaNs.\n",
        "summary = pd.DataFrame({\n",
        "    'Variable': ['suicide1', 'suicide2', 'suicide3', 'suicide4'],\n",
        "    'NaN Count': [df['suicide1'].isna().sum(), df['suicide2'].isna().sum(), df['suicide3'].isna().sum(), df['suicide4'].isna().sum()],\n",
        "    'Yes Count': [df['suicide1'].eq('yes').sum(), df['suicide2'].eq('yes').sum(), df['suicide3'].eq('yes').sum(), df['suicide4'].eq('yes').sum()],\n",
        "    'No Count': [df['suicide1'].eq('no').sum(), df['suicide2'].eq('no').sum(), df['suicide3'].eq('no').sum(), df['suicide4'].eq('no').sum()],\n",
        "})\n",
        "\n",
        "print(summary)"
      ],
      "metadata": {
        "id": "b-PbaIVeQg8P",
        "colab": {
          "base_uri": "https://localhost:8080/"
        },
        "outputId": "d2619c41-f7ae-4031-9143-561bc62d7dd7"
      },
      "execution_count": 30,
      "outputs": [
        {
          "output_type": "stream",
          "name": "stdout",
          "text": [
            "   Variable  NaN Count  Yes Count  No Count\n",
            "0  suicide1      36268      20771     15351\n",
            "1  suicide2      35322       3437     33631\n",
            "2  suicide3      35385       3411     33594\n",
            "3  suicide4      35809       6160     30421\n"
          ]
        }
      ]
    },
    {
      "cell_type": "code",
      "source": [
        "# Check Vars type\n",
        "print(df.dtypes)"
      ],
      "metadata": {
        "colab": {
          "base_uri": "https://localhost:8080/"
        },
        "id": "b2bsWM0EbKkh",
        "outputId": "0e984a4b-a658-4cd7-e910-bafc5d0f2508"
      },
      "execution_count": 31,
      "outputs": [
        {
          "output_type": "stream",
          "name": "stdout",
          "text": [
            "year        object\n",
            "suicide1    object\n",
            "suicide2    object\n",
            "suicide3    object\n",
            "suicide4    object\n",
            "dtype: object\n"
          ]
        }
      ]
    },
    {
      "cell_type": "code",
      "source": [
        "# Convert categorical to numerical\n",
        "df['year'] = pd.to_numeric(df['year'], errors='coerce').astype('Int64')\n",
        "\n",
        "yes_no_mapping = {'yes': 1, 'no': 0}\n",
        "# Apply the mapping using a for loop\n",
        "for col in ['suicide1', 'suicide2', 'suicide3', 'suicide4']:\n",
        "    df[col] = df[col].map(yes_no_mapping)"
      ],
      "metadata": {
        "id": "XFxKE4wYa3n8"
      },
      "execution_count": 32,
      "outputs": []
    },
    {
      "cell_type": "code",
      "source": [
        "print(df.dtypes)\n",
        "# convert done"
      ],
      "metadata": {
        "colab": {
          "base_uri": "https://localhost:8080/"
        },
        "id": "YqUSbRHXbV54",
        "outputId": "08188351-be3e-42d5-e5b3-e9e269c5d8d2"
      },
      "execution_count": 33,
      "outputs": [
        {
          "output_type": "stream",
          "name": "stdout",
          "text": [
            "year          Int64\n",
            "suicide1    float64\n",
            "suicide2    float64\n",
            "suicide3    float64\n",
            "suicide4    float64\n",
            "dtype: object\n"
          ]
        }
      ]
    },
    {
      "cell_type": "code",
      "source": [
        "# Clean NaN\n",
        "df = df.dropna(subset=['year','suicide1', 'suicide2', 'suicide3', 'suicide4'])\n",
        "print(df.head())"
      ],
      "metadata": {
        "colab": {
          "base_uri": "https://localhost:8080/"
        },
        "id": "Fy57o-86eEBN",
        "outputId": "34b8bad2-e52f-44fb-9bd3-84401ecfeca3"
      },
      "execution_count": 34,
      "outputs": [
        {
          "output_type": "stream",
          "name": "stdout",
          "text": [
            "      year  suicide1  suicide2  suicide3  suicide4\n",
            "7590  1977       0.0       0.0       0.0       0.0\n",
            "7591  1977       1.0       1.0       1.0       1.0\n",
            "7592  1977       0.0       0.0       0.0       0.0\n",
            "7593  1977       1.0       0.0       0.0       0.0\n",
            "7594  1977       1.0       0.0       0.0       0.0\n"
          ]
        }
      ]
    },
    {
      "cell_type": "code",
      "source": [
        "# cleaned\n",
        "df.isna().sum()"
      ],
      "metadata": {
        "colab": {
          "base_uri": "https://localhost:8080/"
        },
        "id": "yf2D1kx4ejlu",
        "outputId": "914c3983-32c2-492d-efc3-ce3a320e5bae"
      },
      "execution_count": 35,
      "outputs": [
        {
          "output_type": "execute_result",
          "data": {
            "text/plain": [
              "year        0\n",
              "suicide1    0\n",
              "suicide2    0\n",
              "suicide3    0\n",
              "suicide4    0\n",
              "dtype: int64"
            ]
          },
          "metadata": {},
          "execution_count": 35
        }
      ]
    },
    {
      "cell_type": "code",
      "source": [
        "# sorted along years\n",
        "df.sort_values('year')"
      ],
      "metadata": {
        "colab": {
          "base_uri": "https://localhost:8080/",
          "height": 424
        },
        "id": "yCjVI0tXe2YR",
        "outputId": "1b4d2d7e-2871-4cb1-9df9-d90a147e1246"
      },
      "execution_count": 36,
      "outputs": [
        {
          "output_type": "execute_result",
          "data": {
            "text/plain": [
              "       year  suicide1  suicide2  suicide3  suicide4\n",
              "7590   1977       0.0       0.0       0.0       0.0\n",
              "8616   1977       0.0       0.0       0.0       0.0\n",
              "8615   1977       1.0       0.0       0.0       0.0\n",
              "8614   1977       1.0       0.0       0.0       0.0\n",
              "8613   1977       0.0       0.0       0.0       0.0\n",
              "...     ...       ...       ...       ...       ...\n",
              "70036  2022       0.0       0.0       0.0       0.0\n",
              "70035  2022       0.0       0.0       0.0       0.0\n",
              "70033  2022       1.0       0.0       0.0       0.0\n",
              "70054  2022       1.0       0.0       0.0       0.0\n",
              "72391  2022       1.0       1.0       0.0       1.0\n",
              "\n",
              "[34891 rows x 5 columns]"
            ],
            "text/html": [
              "\n",
              "  <div id=\"df-ab3d9795-c07f-4095-a853-812137a31b29\" class=\"colab-df-container\">\n",
              "    <div>\n",
              "<style scoped>\n",
              "    .dataframe tbody tr th:only-of-type {\n",
              "        vertical-align: middle;\n",
              "    }\n",
              "\n",
              "    .dataframe tbody tr th {\n",
              "        vertical-align: top;\n",
              "    }\n",
              "\n",
              "    .dataframe thead th {\n",
              "        text-align: right;\n",
              "    }\n",
              "</style>\n",
              "<table border=\"1\" class=\"dataframe\">\n",
              "  <thead>\n",
              "    <tr style=\"text-align: right;\">\n",
              "      <th></th>\n",
              "      <th>year</th>\n",
              "      <th>suicide1</th>\n",
              "      <th>suicide2</th>\n",
              "      <th>suicide3</th>\n",
              "      <th>suicide4</th>\n",
              "    </tr>\n",
              "  </thead>\n",
              "  <tbody>\n",
              "    <tr>\n",
              "      <th>7590</th>\n",
              "      <td>1977</td>\n",
              "      <td>0.0</td>\n",
              "      <td>0.0</td>\n",
              "      <td>0.0</td>\n",
              "      <td>0.0</td>\n",
              "    </tr>\n",
              "    <tr>\n",
              "      <th>8616</th>\n",
              "      <td>1977</td>\n",
              "      <td>0.0</td>\n",
              "      <td>0.0</td>\n",
              "      <td>0.0</td>\n",
              "      <td>0.0</td>\n",
              "    </tr>\n",
              "    <tr>\n",
              "      <th>8615</th>\n",
              "      <td>1977</td>\n",
              "      <td>1.0</td>\n",
              "      <td>0.0</td>\n",
              "      <td>0.0</td>\n",
              "      <td>0.0</td>\n",
              "    </tr>\n",
              "    <tr>\n",
              "      <th>8614</th>\n",
              "      <td>1977</td>\n",
              "      <td>1.0</td>\n",
              "      <td>0.0</td>\n",
              "      <td>0.0</td>\n",
              "      <td>0.0</td>\n",
              "    </tr>\n",
              "    <tr>\n",
              "      <th>8613</th>\n",
              "      <td>1977</td>\n",
              "      <td>0.0</td>\n",
              "      <td>0.0</td>\n",
              "      <td>0.0</td>\n",
              "      <td>0.0</td>\n",
              "    </tr>\n",
              "    <tr>\n",
              "      <th>...</th>\n",
              "      <td>...</td>\n",
              "      <td>...</td>\n",
              "      <td>...</td>\n",
              "      <td>...</td>\n",
              "      <td>...</td>\n",
              "    </tr>\n",
              "    <tr>\n",
              "      <th>70036</th>\n",
              "      <td>2022</td>\n",
              "      <td>0.0</td>\n",
              "      <td>0.0</td>\n",
              "      <td>0.0</td>\n",
              "      <td>0.0</td>\n",
              "    </tr>\n",
              "    <tr>\n",
              "      <th>70035</th>\n",
              "      <td>2022</td>\n",
              "      <td>0.0</td>\n",
              "      <td>0.0</td>\n",
              "      <td>0.0</td>\n",
              "      <td>0.0</td>\n",
              "    </tr>\n",
              "    <tr>\n",
              "      <th>70033</th>\n",
              "      <td>2022</td>\n",
              "      <td>1.0</td>\n",
              "      <td>0.0</td>\n",
              "      <td>0.0</td>\n",
              "      <td>0.0</td>\n",
              "    </tr>\n",
              "    <tr>\n",
              "      <th>70054</th>\n",
              "      <td>2022</td>\n",
              "      <td>1.0</td>\n",
              "      <td>0.0</td>\n",
              "      <td>0.0</td>\n",
              "      <td>0.0</td>\n",
              "    </tr>\n",
              "    <tr>\n",
              "      <th>72391</th>\n",
              "      <td>2022</td>\n",
              "      <td>1.0</td>\n",
              "      <td>1.0</td>\n",
              "      <td>0.0</td>\n",
              "      <td>1.0</td>\n",
              "    </tr>\n",
              "  </tbody>\n",
              "</table>\n",
              "<p>34891 rows × 5 columns</p>\n",
              "</div>\n",
              "    <div class=\"colab-df-buttons\">\n",
              "\n",
              "  <div class=\"colab-df-container\">\n",
              "    <button class=\"colab-df-convert\" onclick=\"convertToInteractive('df-ab3d9795-c07f-4095-a853-812137a31b29')\"\n",
              "            title=\"Convert this dataframe to an interactive table.\"\n",
              "            style=\"display:none;\">\n",
              "\n",
              "  <svg xmlns=\"http://www.w3.org/2000/svg\" height=\"24px\" viewBox=\"0 -960 960 960\">\n",
              "    <path d=\"M120-120v-720h720v720H120Zm60-500h600v-160H180v160Zm220 220h160v-160H400v160Zm0 220h160v-160H400v160ZM180-400h160v-160H180v160Zm440 0h160v-160H620v160ZM180-180h160v-160H180v160Zm440 0h160v-160H620v160Z\"/>\n",
              "  </svg>\n",
              "    </button>\n",
              "\n",
              "  <style>\n",
              "    .colab-df-container {\n",
              "      display:flex;\n",
              "      gap: 12px;\n",
              "    }\n",
              "\n",
              "    .colab-df-convert {\n",
              "      background-color: #E8F0FE;\n",
              "      border: none;\n",
              "      border-radius: 50%;\n",
              "      cursor: pointer;\n",
              "      display: none;\n",
              "      fill: #1967D2;\n",
              "      height: 32px;\n",
              "      padding: 0 0 0 0;\n",
              "      width: 32px;\n",
              "    }\n",
              "\n",
              "    .colab-df-convert:hover {\n",
              "      background-color: #E2EBFA;\n",
              "      box-shadow: 0px 1px 2px rgba(60, 64, 67, 0.3), 0px 1px 3px 1px rgba(60, 64, 67, 0.15);\n",
              "      fill: #174EA6;\n",
              "    }\n",
              "\n",
              "    .colab-df-buttons div {\n",
              "      margin-bottom: 4px;\n",
              "    }\n",
              "\n",
              "    [theme=dark] .colab-df-convert {\n",
              "      background-color: #3B4455;\n",
              "      fill: #D2E3FC;\n",
              "    }\n",
              "\n",
              "    [theme=dark] .colab-df-convert:hover {\n",
              "      background-color: #434B5C;\n",
              "      box-shadow: 0px 1px 3px 1px rgba(0, 0, 0, 0.15);\n",
              "      filter: drop-shadow(0px 1px 2px rgba(0, 0, 0, 0.3));\n",
              "      fill: #FFFFFF;\n",
              "    }\n",
              "  </style>\n",
              "\n",
              "    <script>\n",
              "      const buttonEl =\n",
              "        document.querySelector('#df-ab3d9795-c07f-4095-a853-812137a31b29 button.colab-df-convert');\n",
              "      buttonEl.style.display =\n",
              "        google.colab.kernel.accessAllowed ? 'block' : 'none';\n",
              "\n",
              "      async function convertToInteractive(key) {\n",
              "        const element = document.querySelector('#df-ab3d9795-c07f-4095-a853-812137a31b29');\n",
              "        const dataTable =\n",
              "          await google.colab.kernel.invokeFunction('convertToInteractive',\n",
              "                                                    [key], {});\n",
              "        if (!dataTable) return;\n",
              "\n",
              "        const docLinkHtml = 'Like what you see? Visit the ' +\n",
              "          '<a target=\"_blank\" href=https://colab.research.google.com/notebooks/data_table.ipynb>data table notebook</a>'\n",
              "          + ' to learn more about interactive tables.';\n",
              "        element.innerHTML = '';\n",
              "        dataTable['output_type'] = 'display_data';\n",
              "        await google.colab.output.renderOutput(dataTable, element);\n",
              "        const docLink = document.createElement('div');\n",
              "        docLink.innerHTML = docLinkHtml;\n",
              "        element.appendChild(docLink);\n",
              "      }\n",
              "    </script>\n",
              "  </div>\n",
              "\n",
              "\n",
              "<div id=\"df-27f0b2c0-90ea-4452-ba21-fa4961a1221a\">\n",
              "  <button class=\"colab-df-quickchart\" onclick=\"quickchart('df-27f0b2c0-90ea-4452-ba21-fa4961a1221a')\"\n",
              "            title=\"Suggest charts\"\n",
              "            style=\"display:none;\">\n",
              "\n",
              "<svg xmlns=\"http://www.w3.org/2000/svg\" height=\"24px\"viewBox=\"0 0 24 24\"\n",
              "     width=\"24px\">\n",
              "    <g>\n",
              "        <path d=\"M19 3H5c-1.1 0-2 .9-2 2v14c0 1.1.9 2 2 2h14c1.1 0 2-.9 2-2V5c0-1.1-.9-2-2-2zM9 17H7v-7h2v7zm4 0h-2V7h2v10zm4 0h-2v-4h2v4z\"/>\n",
              "    </g>\n",
              "</svg>\n",
              "  </button>\n",
              "\n",
              "<style>\n",
              "  .colab-df-quickchart {\n",
              "      --bg-color: #E8F0FE;\n",
              "      --fill-color: #1967D2;\n",
              "      --hover-bg-color: #E2EBFA;\n",
              "      --hover-fill-color: #174EA6;\n",
              "      --disabled-fill-color: #AAA;\n",
              "      --disabled-bg-color: #DDD;\n",
              "  }\n",
              "\n",
              "  [theme=dark] .colab-df-quickchart {\n",
              "      --bg-color: #3B4455;\n",
              "      --fill-color: #D2E3FC;\n",
              "      --hover-bg-color: #434B5C;\n",
              "      --hover-fill-color: #FFFFFF;\n",
              "      --disabled-bg-color: #3B4455;\n",
              "      --disabled-fill-color: #666;\n",
              "  }\n",
              "\n",
              "  .colab-df-quickchart {\n",
              "    background-color: var(--bg-color);\n",
              "    border: none;\n",
              "    border-radius: 50%;\n",
              "    cursor: pointer;\n",
              "    display: none;\n",
              "    fill: var(--fill-color);\n",
              "    height: 32px;\n",
              "    padding: 0;\n",
              "    width: 32px;\n",
              "  }\n",
              "\n",
              "  .colab-df-quickchart:hover {\n",
              "    background-color: var(--hover-bg-color);\n",
              "    box-shadow: 0 1px 2px rgba(60, 64, 67, 0.3), 0 1px 3px 1px rgba(60, 64, 67, 0.15);\n",
              "    fill: var(--button-hover-fill-color);\n",
              "  }\n",
              "\n",
              "  .colab-df-quickchart-complete:disabled,\n",
              "  .colab-df-quickchart-complete:disabled:hover {\n",
              "    background-color: var(--disabled-bg-color);\n",
              "    fill: var(--disabled-fill-color);\n",
              "    box-shadow: none;\n",
              "  }\n",
              "\n",
              "  .colab-df-spinner {\n",
              "    border: 2px solid var(--fill-color);\n",
              "    border-color: transparent;\n",
              "    border-bottom-color: var(--fill-color);\n",
              "    animation:\n",
              "      spin 1s steps(1) infinite;\n",
              "  }\n",
              "\n",
              "  @keyframes spin {\n",
              "    0% {\n",
              "      border-color: transparent;\n",
              "      border-bottom-color: var(--fill-color);\n",
              "      border-left-color: var(--fill-color);\n",
              "    }\n",
              "    20% {\n",
              "      border-color: transparent;\n",
              "      border-left-color: var(--fill-color);\n",
              "      border-top-color: var(--fill-color);\n",
              "    }\n",
              "    30% {\n",
              "      border-color: transparent;\n",
              "      border-left-color: var(--fill-color);\n",
              "      border-top-color: var(--fill-color);\n",
              "      border-right-color: var(--fill-color);\n",
              "    }\n",
              "    40% {\n",
              "      border-color: transparent;\n",
              "      border-right-color: var(--fill-color);\n",
              "      border-top-color: var(--fill-color);\n",
              "    }\n",
              "    60% {\n",
              "      border-color: transparent;\n",
              "      border-right-color: var(--fill-color);\n",
              "    }\n",
              "    80% {\n",
              "      border-color: transparent;\n",
              "      border-right-color: var(--fill-color);\n",
              "      border-bottom-color: var(--fill-color);\n",
              "    }\n",
              "    90% {\n",
              "      border-color: transparent;\n",
              "      border-bottom-color: var(--fill-color);\n",
              "    }\n",
              "  }\n",
              "</style>\n",
              "\n",
              "  <script>\n",
              "    async function quickchart(key) {\n",
              "      const quickchartButtonEl =\n",
              "        document.querySelector('#' + key + ' button');\n",
              "      quickchartButtonEl.disabled = true;  // To prevent multiple clicks.\n",
              "      quickchartButtonEl.classList.add('colab-df-spinner');\n",
              "      try {\n",
              "        const charts = await google.colab.kernel.invokeFunction(\n",
              "            'suggestCharts', [key], {});\n",
              "      } catch (error) {\n",
              "        console.error('Error during call to suggestCharts:', error);\n",
              "      }\n",
              "      quickchartButtonEl.classList.remove('colab-df-spinner');\n",
              "      quickchartButtonEl.classList.add('colab-df-quickchart-complete');\n",
              "    }\n",
              "    (() => {\n",
              "      let quickchartButtonEl =\n",
              "        document.querySelector('#df-27f0b2c0-90ea-4452-ba21-fa4961a1221a button');\n",
              "      quickchartButtonEl.style.display =\n",
              "        google.colab.kernel.accessAllowed ? 'block' : 'none';\n",
              "    })();\n",
              "  </script>\n",
              "</div>\n",
              "    </div>\n",
              "  </div>\n"
            ],
            "application/vnd.google.colaboratory.intrinsic+json": {
              "type": "dataframe",
              "summary": "{\n  \"name\": \"df\",\n  \"rows\": 34891,\n  \"fields\": [\n    {\n      \"column\": \"year\",\n      \"properties\": {\n        \"dtype\": \"Int64\",\n        \"num_unique_values\": 26,\n        \"samples\": [\n          \"1990\",\n          \"2004\",\n          \"1977\"\n        ],\n        \"semantic_type\": \"\",\n        \"description\": \"\"\n      }\n    },\n    {\n      \"column\": \"suicide1\",\n      \"properties\": {\n        \"dtype\": \"number\",\n        \"std\": 0.495925659813823,\n        \"min\": 0.0,\n        \"max\": 1.0,\n        \"num_unique_values\": 2,\n        \"samples\": [\n          1.0,\n          0.0\n        ],\n        \"semantic_type\": \"\",\n        \"description\": \"\"\n      }\n    },\n    {\n      \"column\": \"suicide2\",\n      \"properties\": {\n        \"dtype\": \"number\",\n        \"std\": 0.29449575909672643,\n        \"min\": 0.0,\n        \"max\": 1.0,\n        \"num_unique_values\": 2,\n        \"samples\": [\n          1.0,\n          0.0\n        ],\n        \"semantic_type\": \"\",\n        \"description\": \"\"\n      }\n    },\n    {\n      \"column\": \"suicide3\",\n      \"properties\": {\n        \"dtype\": \"number\",\n        \"std\": 0.2943777449793169,\n        \"min\": 0.0,\n        \"max\": 1.0,\n        \"num_unique_values\": 2,\n        \"samples\": [\n          1.0,\n          0.0\n        ],\n        \"semantic_type\": \"\",\n        \"description\": \"\"\n      }\n    },\n    {\n      \"column\": \"suicide4\",\n      \"properties\": {\n        \"dtype\": \"number\",\n        \"std\": 0.37436243288052934,\n        \"min\": 0.0,\n        \"max\": 1.0,\n        \"num_unique_values\": 2,\n        \"samples\": [\n          1.0,\n          0.0\n        ],\n        \"semantic_type\": \"\",\n        \"description\": \"\"\n      }\n    }\n  ]\n}"
            }
          },
          "metadata": {},
          "execution_count": 36
        }
      ]
    },
    {
      "cell_type": "markdown",
      "source": [
        "## Results\n",
        "\n",
        "This analysis examines the trends and patterns in the attitudes towards suicide over the period spanning from 1977 to 2022 in America. The examination is based on the responses to four different survey questions labeled 'suicide1', 'suicide2', 'suicide3', and 'suicide4'. This data was converted from a categorical response (‘yes’, ’no’) into a numerical response (1, 0), facilitating statistical examination and visualization.\n"
      ],
      "metadata": {
        "id": "TGmB-vtIjiDU"
      }
    },
    {
      "cell_type": "code",
      "source": [
        "import seaborn as sns\n",
        "import matplotlib.pyplot as plt\n",
        "\n",
        "plt.figure(figsize=(12, 8))\n",
        "\n",
        "# Melt the dataframe for better visualization\n",
        "df_melted = pd.melt(df, id_vars='year', value_vars=['suicide1', 'suicide2', 'suicide3', 'suicide4'], var_name='suicide_var', value_name='value')\n",
        "\n",
        "# Create a grouped countplot\n",
        "sns.countplot(x='suicide_var', hue='value', data=df_melted, palette='viridis')\n",
        "\n",
        "plt.title('Grouped Countplot of Suicide Variables (Figure 1)')\n",
        "plt.xlabel('Suicide Variables')\n",
        "plt.ylabel('Count')\n",
        "plt.legend(title='Value', labels=['no', 'yes'])\n",
        "plt.show()\n"
      ],
      "metadata": {
        "colab": {
          "base_uri": "https://localhost:8080/",
          "height": 699
        },
        "id": "gcsMT4r7uRqp",
        "outputId": "e1bf2a0a-6e56-453d-c778-c859b2d37438"
      },
      "execution_count": 37,
      "outputs": [
        {
          "output_type": "display_data",
          "data": {
            "text/plain": [
              "<Figure size 1200x800 with 1 Axes>"
            ],
            "image/png": "[encoded data removed]"
          },
          "metadata": {}
        }
      ]
    },
    {
      "cell_type": "markdown",
      "source": [
        "Figure 1 shows the distribution of “yes” and “no'' responses for each suicide variable. A distinct pattern can be observed where “suicide1” consistently accumulate a higher “yes” count (around 20,000) compared to theother suicide variables (lower or approximately 5,000). Additionally, it can be observed that for every other variable outside of “suicide1”, there seems to be a higher “no” count. This suggest that suicide based on health issues is more acceptable and deemed more acceptable than other reasons stated."
      ],
      "metadata": {
        "id": "00p1cg0YjzNC"
      }
    },
    {
      "cell_type": "code",
      "source": [
        "df.describe()"
      ],
      "metadata": {
        "colab": {
          "base_uri": "https://localhost:8080/",
          "height": 300
        },
        "id": "PVbMlOmMuL3D",
        "outputId": "d0b9ec42-f4f4-4b22-f247-203d7381bf4c"
      },
      "execution_count": 38,
      "outputs": [
        {
          "output_type": "execute_result",
          "data": {
            "text/plain": [
              "              year      suicide1      suicide2      suicide3      suicide4\n",
              "count      34891.0  34891.000000  34891.000000  34891.000000  34891.000000\n",
              "mean   1998.449371      0.563756      0.095927      0.095841      0.168553\n",
              "std      13.332919      0.495926      0.294496      0.294378      0.374362\n",
              "min         1977.0      0.000000      0.000000      0.000000      0.000000\n",
              "25%         1986.0      0.000000      0.000000      0.000000      0.000000\n",
              "50%         1998.0      1.000000      0.000000      0.000000      0.000000\n",
              "75%         2010.0      1.000000      0.000000      0.000000      0.000000\n",
              "max         2022.0      1.000000      1.000000      1.000000      1.000000"
            ],
            "text/html": [
              "\n",
              "  <div id=\"df-5fe8b8b8-045d-430f-b47b-4be451fdf096\" class=\"colab-df-container\">\n",
              "    <div>\n",
              "<style scoped>\n",
              "    .dataframe tbody tr th:only-of-type {\n",
              "        vertical-align: middle;\n",
              "    }\n",
              "\n",
              "    .dataframe tbody tr th {\n",
              "        vertical-align: top;\n",
              "    }\n",
              "\n",
              "    .dataframe thead th {\n",
              "        text-align: right;\n",
              "    }\n",
              "</style>\n",
              "<table border=\"1\" class=\"dataframe\">\n",
              "  <thead>\n",
              "    <tr style=\"text-align: right;\">\n",
              "      <th></th>\n",
              "      <th>year</th>\n",
              "      <th>suicide1</th>\n",
              "      <th>suicide2</th>\n",
              "      <th>suicide3</th>\n",
              "      <th>suicide4</th>\n",
              "    </tr>\n",
              "  </thead>\n",
              "  <tbody>\n",
              "    <tr>\n",
              "      <th>count</th>\n",
              "      <td>34891.0</td>\n",
              "      <td>34891.000000</td>\n",
              "      <td>34891.000000</td>\n",
              "      <td>34891.000000</td>\n",
              "      <td>34891.000000</td>\n",
              "    </tr>\n",
              "    <tr>\n",
              "      <th>mean</th>\n",
              "      <td>1998.449371</td>\n",
              "      <td>0.563756</td>\n",
              "      <td>0.095927</td>\n",
              "      <td>0.095841</td>\n",
              "      <td>0.168553</td>\n",
              "    </tr>\n",
              "    <tr>\n",
              "      <th>std</th>\n",
              "      <td>13.332919</td>\n",
              "      <td>0.495926</td>\n",
              "      <td>0.294496</td>\n",
              "      <td>0.294378</td>\n",
              "      <td>0.374362</td>\n",
              "    </tr>\n",
              "    <tr>\n",
              "      <th>min</th>\n",
              "      <td>1977.0</td>\n",
              "      <td>0.000000</td>\n",
              "      <td>0.000000</td>\n",
              "      <td>0.000000</td>\n",
              "      <td>0.000000</td>\n",
              "    </tr>\n",
              "    <tr>\n",
              "      <th>25%</th>\n",
              "      <td>1986.0</td>\n",
              "      <td>0.000000</td>\n",
              "      <td>0.000000</td>\n",
              "      <td>0.000000</td>\n",
              "      <td>0.000000</td>\n",
              "    </tr>\n",
              "    <tr>\n",
              "      <th>50%</th>\n",
              "      <td>1998.0</td>\n",
              "      <td>1.000000</td>\n",
              "      <td>0.000000</td>\n",
              "      <td>0.000000</td>\n",
              "      <td>0.000000</td>\n",
              "    </tr>\n",
              "    <tr>\n",
              "      <th>75%</th>\n",
              "      <td>2010.0</td>\n",
              "      <td>1.000000</td>\n",
              "      <td>0.000000</td>\n",
              "      <td>0.000000</td>\n",
              "      <td>0.000000</td>\n",
              "    </tr>\n",
              "    <tr>\n",
              "      <th>max</th>\n",
              "      <td>2022.0</td>\n",
              "      <td>1.000000</td>\n",
              "      <td>1.000000</td>\n",
              "      <td>1.000000</td>\n",
              "      <td>1.000000</td>\n",
              "    </tr>\n",
              "  </tbody>\n",
              "</table>\n",
              "</div>\n",
              "    <div class=\"colab-df-buttons\">\n",
              "\n",
              "  <div class=\"colab-df-container\">\n",
              "    <button class=\"colab-df-convert\" onclick=\"convertToInteractive('df-5fe8b8b8-045d-430f-b47b-4be451fdf096')\"\n",
              "            title=\"Convert this dataframe to an interactive table.\"\n",
              "            style=\"display:none;\">\n",
              "\n",
              "  <svg xmlns=\"http://www.w3.org/2000/svg\" height=\"24px\" viewBox=\"0 -960 960 960\">\n",
              "    <path d=\"M120-120v-720h720v720H120Zm60-500h600v-160H180v160Zm220 220h160v-160H400v160Zm0 220h160v-160H400v160ZM180-400h160v-160H180v160Zm440 0h160v-160H620v160ZM180-180h160v-160H180v160Zm440 0h160v-160H620v160Z\"/>\n",
              "  </svg>\n",
              "    </button>\n",
              "\n",
              "  <style>\n",
              "    .colab-df-container {\n",
              "      display:flex;\n",
              "      gap: 12px;\n",
              "    }\n",
              "\n",
              "    .colab-df-convert {\n",
              "      background-color: #E8F0FE;\n",
              "      border: none;\n",
              "      border-radius: 50%;\n",
              "      cursor: pointer;\n",
              "      display: none;\n",
              "      fill: #1967D2;\n",
              "      height: 32px;\n",
              "      padding: 0 0 0 0;\n",
              "      width: 32px;\n",
              "    }\n",
              "\n",
              "    .colab-df-convert:hover {\n",
              "      background-color: #E2EBFA;\n",
              "      box-shadow: 0px 1px 2px rgba(60, 64, 67, 0.3), 0px 1px 3px 1px rgba(60, 64, 67, 0.15);\n",
              "      fill: #174EA6;\n",
              "    }\n",
              "\n",
              "    .colab-df-buttons div {\n",
              "      margin-bottom: 4px;\n",
              "    }\n",
              "\n",
              "    [theme=dark] .colab-df-convert {\n",
              "      background-color: #3B4455;\n",
              "      fill: #D2E3FC;\n",
              "    }\n",
              "\n",
              "    [theme=dark] .colab-df-convert:hover {\n",
              "      background-color: #434B5C;\n",
              "      box-shadow: 0px 1px 3px 1px rgba(0, 0, 0, 0.15);\n",
              "      filter: drop-shadow(0px 1px 2px rgba(0, 0, 0, 0.3));\n",
              "      fill: #FFFFFF;\n",
              "    }\n",
              "  </style>\n",
              "\n",
              "    <script>\n",
              "      const buttonEl =\n",
              "        document.querySelector('#df-5fe8b8b8-045d-430f-b47b-4be451fdf096 button.colab-df-convert');\n",
              "      buttonEl.style.display =\n",
              "        google.colab.kernel.accessAllowed ? 'block' : 'none';\n",
              "\n",
              "      async function convertToInteractive(key) {\n",
              "        const element = document.querySelector('#df-5fe8b8b8-045d-430f-b47b-4be451fdf096');\n",
              "        const dataTable =\n",
              "          await google.colab.kernel.invokeFunction('convertToInteractive',\n",
              "                                                    [key], {});\n",
              "        if (!dataTable) return;\n",
              "\n",
              "        const docLinkHtml = 'Like what you see? Visit the ' +\n",
              "          '<a target=\"_blank\" href=https://colab.research.google.com/notebooks/data_table.ipynb>data table notebook</a>'\n",
              "          + ' to learn more about interactive tables.';\n",
              "        element.innerHTML = '';\n",
              "        dataTable['output_type'] = 'display_data';\n",
              "        await google.colab.output.renderOutput(dataTable, element);\n",
              "        const docLink = document.createElement('div');\n",
              "        docLink.innerHTML = docLinkHtml;\n",
              "        element.appendChild(docLink);\n",
              "      }\n",
              "    </script>\n",
              "  </div>\n",
              "\n",
              "\n",
              "<div id=\"df-3d40c057-4945-42a0-b50c-c587bd5b3816\">\n",
              "  <button class=\"colab-df-quickchart\" onclick=\"quickchart('df-3d40c057-4945-42a0-b50c-c587bd5b3816')\"\n",
              "            title=\"Suggest charts\"\n",
              "            style=\"display:none;\">\n",
              "\n",
              "<svg xmlns=\"http://www.w3.org/2000/svg\" height=\"24px\"viewBox=\"0 0 24 24\"\n",
              "     width=\"24px\">\n",
              "    <g>\n",
              "        <path d=\"M19 3H5c-1.1 0-2 .9-2 2v14c0 1.1.9 2 2 2h14c1.1 0 2-.9 2-2V5c0-1.1-.9-2-2-2zM9 17H7v-7h2v7zm4 0h-2V7h2v10zm4 0h-2v-4h2v4z\"/>\n",
              "    </g>\n",
              "</svg>\n",
              "  </button>\n",
              "\n",
              "<style>\n",
              "  .colab-df-quickchart {\n",
              "      --bg-color: #E8F0FE;\n",
              "      --fill-color: #1967D2;\n",
              "      --hover-bg-color: #E2EBFA;\n",
              "      --hover-fill-color: #174EA6;\n",
              "      --disabled-fill-color: #AAA;\n",
              "      --disabled-bg-color: #DDD;\n",
              "  }\n",
              "\n",
              "  [theme=dark] .colab-df-quickchart {\n",
              "      --bg-color: #3B4455;\n",
              "      --fill-color: #D2E3FC;\n",
              "      --hover-bg-color: #434B5C;\n",
              "      --hover-fill-color: #FFFFFF;\n",
              "      --disabled-bg-color: #3B4455;\n",
              "      --disabled-fill-color: #666;\n",
              "  }\n",
              "\n",
              "  .colab-df-quickchart {\n",
              "    background-color: var(--bg-color);\n",
              "    border: none;\n",
              "    border-radius: 50%;\n",
              "    cursor: pointer;\n",
              "    display: none;\n",
              "    fill: var(--fill-color);\n",
              "    height: 32px;\n",
              "    padding: 0;\n",
              "    width: 32px;\n",
              "  }\n",
              "\n",
              "  .colab-df-quickchart:hover {\n",
              "    background-color: var(--hover-bg-color);\n",
              "    box-shadow: 0 1px 2px rgba(60, 64, 67, 0.3), 0 1px 3px 1px rgba(60, 64, 67, 0.15);\n",
              "    fill: var(--button-hover-fill-color);\n",
              "  }\n",
              "\n",
              "  .colab-df-quickchart-complete:disabled,\n",
              "  .colab-df-quickchart-complete:disabled:hover {\n",
              "    background-color: var(--disabled-bg-color);\n",
              "    fill: var(--disabled-fill-color);\n",
              "    box-shadow: none;\n",
              "  }\n",
              "\n",
              "  .colab-df-spinner {\n",
              "    border: 2px solid var(--fill-color);\n",
              "    border-color: transparent;\n",
              "    border-bottom-color: var(--fill-color);\n",
              "    animation:\n",
              "      spin 1s steps(1) infinite;\n",
              "  }\n",
              "\n",
              "  @keyframes spin {\n",
              "    0% {\n",
              "      border-color: transparent;\n",
              "      border-bottom-color: var(--fill-color);\n",
              "      border-left-color: var(--fill-color);\n",
              "    }\n",
              "    20% {\n",
              "      border-color: transparent;\n",
              "      border-left-color: var(--fill-color);\n",
              "      border-top-color: var(--fill-color);\n",
              "    }\n",
              "    30% {\n",
              "      border-color: transparent;\n",
              "      border-left-color: var(--fill-color);\n",
              "      border-top-color: var(--fill-color);\n",
              "      border-right-color: var(--fill-color);\n",
              "    }\n",
              "    40% {\n",
              "      border-color: transparent;\n",
              "      border-right-color: var(--fill-color);\n",
              "      border-top-color: var(--fill-color);\n",
              "    }\n",
              "    60% {\n",
              "      border-color: transparent;\n",
              "      border-right-color: var(--fill-color);\n",
              "    }\n",
              "    80% {\n",
              "      border-color: transparent;\n",
              "      border-right-color: var(--fill-color);\n",
              "      border-bottom-color: var(--fill-color);\n",
              "    }\n",
              "    90% {\n",
              "      border-color: transparent;\n",
              "      border-bottom-color: var(--fill-color);\n",
              "    }\n",
              "  }\n",
              "</style>\n",
              "\n",
              "  <script>\n",
              "    async function quickchart(key) {\n",
              "      const quickchartButtonEl =\n",
              "        document.querySelector('#' + key + ' button');\n",
              "      quickchartButtonEl.disabled = true;  // To prevent multiple clicks.\n",
              "      quickchartButtonEl.classList.add('colab-df-spinner');\n",
              "      try {\n",
              "        const charts = await google.colab.kernel.invokeFunction(\n",
              "            'suggestCharts', [key], {});\n",
              "      } catch (error) {\n",
              "        console.error('Error during call to suggestCharts:', error);\n",
              "      }\n",
              "      quickchartButtonEl.classList.remove('colab-df-spinner');\n",
              "      quickchartButtonEl.classList.add('colab-df-quickchart-complete');\n",
              "    }\n",
              "    (() => {\n",
              "      let quickchartButtonEl =\n",
              "        document.querySelector('#df-3d40c057-4945-42a0-b50c-c587bd5b3816 button');\n",
              "      quickchartButtonEl.style.display =\n",
              "        google.colab.kernel.accessAllowed ? 'block' : 'none';\n",
              "    })();\n",
              "  </script>\n",
              "</div>\n",
              "    </div>\n",
              "  </div>\n"
            ],
            "application/vnd.google.colaboratory.intrinsic+json": {
              "type": "dataframe",
              "summary": "{\n  \"name\": \"df\",\n  \"rows\": 8,\n  \"fields\": [\n    {\n      \"column\": \"year\",\n      \"properties\": {\n        \"dtype\": \"Float64\",\n        \"num_unique_values\": 8,\n        \"samples\": [\n          1998.4493708979394,\n          1998.0,\n          34891.0\n        ],\n        \"semantic_type\": \"\",\n        \"description\": \"\"\n      }\n    },\n    {\n      \"column\": \"suicide1\",\n      \"properties\": {\n        \"dtype\": \"number\",\n        \"std\": 12335.62631331987,\n        \"min\": 0.0,\n        \"max\": 34891.0,\n        \"num_unique_values\": 5,\n        \"samples\": [\n          0.5637556963113697,\n          1.0,\n          0.4959256598138231\n        ],\n        \"semantic_type\": \"\",\n        \"description\": \"\"\n      }\n    },\n    {\n      \"column\": \"suicide2\",\n      \"properties\": {\n        \"dtype\": \"number\",\n        \"std\": 12335.761128966162,\n        \"min\": 0.0,\n        \"max\": 34891.0,\n        \"num_unique_values\": 5,\n        \"samples\": [\n          0.095927316499957,\n          1.0,\n          0.29449575909672643\n        ],\n        \"semantic_type\": \"\",\n        \"description\": \"\"\n      }\n    },\n    {\n      \"column\": \"suicide3\",\n      \"properties\": {\n        \"dtype\": \"number\",\n        \"std\": 12335.761139269496,\n        \"min\": 0.0,\n        \"max\": 34891.0,\n        \"num_unique_values\": 5,\n        \"samples\": [\n          0.09584133444154654,\n          1.0,\n          0.2943777449793169\n        ],\n        \"semantic_type\": \"\",\n        \"description\": \"\"\n      }\n    },\n    {\n      \"column\": \"suicide4\",\n      \"properties\": {\n        \"dtype\": \"number\",\n        \"std\": 12335.753426964544,\n        \"min\": 0.0,\n        \"max\": 34891.0,\n        \"num_unique_values\": 5,\n        \"samples\": [\n          0.1685534951706744,\n          1.0,\n          0.37436243288052934\n        ],\n        \"semantic_type\": \"\",\n        \"description\": \"\"\n      }\n    }\n  ]\n}"
            }
          },
          "metadata": {},
          "execution_count": 38
        }
      ]
    },
    {
      "cell_type": "markdown",
      "source": [
        "Table above includes the statistic for all the variables we have. Since the suicide variables and ‘year’ are categorical variables, so there is no outliers here. The summary statistics for 'year' is not usefull. The only information we need to know is our dataset contain the data from 1977 to 2022.\n",
        "\n",
        "For suicide variables, their counts exactly the same since we cleaned all the NaNs. The mean of variable 'suicide1' is strongly greater than the other three, nearly 50% (0.5) more. And it is the only one with the mean value above 50% (0.5), means more than half of the respondents think a person has the right to end his or her own life if this person if he/she has an incurable disease. This matches the result shown in the Figure 1. Min, 25%, 50%, 75% and max statistic are also meaningless for suicide variables. Again, becuase they are categorical varibales, the only value they have are 1 for yes, and 0 for no."
      ],
      "metadata": {
        "id": "Dd4IpD2AkJAe"
      }
    },
    {
      "cell_type": "code",
      "source": [
        "# Group by 'year' and calculate the sum for each vars\n",
        "# Since we changed 'YES' to numeric 1, the sum for each year of each vars equals the counts of 'YES' answer.\n",
        "grouped_df = df.groupby('year').sum()\n",
        "\n",
        "# Plot the time trend graph for yes count\n",
        "plt.figure(figsize=(10, 6))\n",
        "\n",
        "for col in ['suicide1', 'suicide2', 'suicide3', 'suicide4']:\n",
        "    plt.plot(grouped_df.index, grouped_df[col], label=col)\n",
        "\n",
        "plt.xlabel('Year')\n",
        "plt.ylabel('Yes Answer')\n",
        "plt.title('Time Trend of Suicide (yes counts) (Figure 2)')\n",
        "plt.legend()\n",
        "plt.show()\n"
      ],
      "metadata": {
        "id": "XHCBLHAHJJTG",
        "outputId": "e8bd2a3e-7f5e-4145-8af5-83dcbb2ee73d",
        "colab": {
          "base_uri": "https://localhost:8080/",
          "height": 564
        }
      },
      "execution_count": 39,
      "outputs": [
        {
          "output_type": "display_data",
          "data": {
            "text/plain": [
              "<Figure size 1000x600 with 1 Axes>"
            ],
            "image/png": "[encoded data removed]"
          },
          "metadata": {}
        }
      ]
    },
    {
      "cell_type": "markdown",
      "source": [
        "Figure 2 presents a trend of “yes” counts across all four variables over the years. It is worth noting the ascending trend of “suicide1” response, indicating a shift towards a more affirmative stance. In contrast, the other variables, “suicide2”, ”suicide3”, and “suicide4”, demonstrate relative stability in “yes” counts over the years."
      ],
      "metadata": {
        "id": "IP4Mol3okddo"
      }
    },
    {
      "cell_type": "code",
      "source": [
        "# calculate the percentage of yes/no (1/0) for each suicide variables by years\n",
        "df_melted = pd.melt(df, id_vars='year', var_name='suicide_var', value_name='value')\n",
        "\n",
        "# Calculate the percentage of counts of 0 and 1 for each suicide variable grouped by year\n",
        "result_df = df_melted.groupby(['year', 'suicide_var', 'value']).size().unstack()\n",
        "result_df['percent_0'] = result_df[0] / (result_df[0] + result_df[1]) * 100\n",
        "result_df['percent_1'] = result_df[1] / (result_df[0] + result_df[1]) * 100\n",
        "\n",
        "# Display the resulting DataFrame\n",
        "print(result_df[['percent_0', 'percent_1']])"
      ],
      "metadata": {
        "id": "FQErbKFCO51c",
        "outputId": "ff5e4b03-756d-48db-e201-15f89e2c2517",
        "colab": {
          "base_uri": "https://localhost:8080/"
        }
      },
      "execution_count": 40,
      "outputs": [
        {
          "output_type": "stream",
          "name": "stdout",
          "text": [
            "value             percent_0  percent_1\n",
            "year suicide_var                      \n",
            "1977 suicide1     61.305842  38.694158\n",
            "     suicide2     92.920962   7.079038\n",
            "     suicide3     92.233677   7.766323\n",
            "     suicide4     86.460481  13.539519\n",
            "1978 suicide1     60.875513  39.124487\n",
            "...                     ...        ...\n",
            "2021 suicide4     78.812692  21.187308\n",
            "2022 suicide1     29.002745  70.997255\n",
            "     suicide2     83.440073  16.559927\n",
            "     suicide3     84.720952  15.279048\n",
            "     suicide4     74.016468  25.983532\n",
            "\n",
            "[104 rows x 2 columns]\n"
          ]
        }
      ]
    },
    {
      "cell_type": "code",
      "source": [
        "# @title\n",
        "# fraw the time trend plot for suicide variables with percentage of yes\n",
        "for var in ['suicide1', 'suicide2', 'suicide3', 'suicide4']:\n",
        "    subset = result_df.loc[result_df.index.get_level_values('suicide_var') == var]\n",
        "    plt.plot(subset.index.get_level_values('year'), subset['percent_1'], label=f'{var}')\n",
        "\n",
        "\n",
        "plt.ylabel('Percentage of Yes(1)')\n",
        "plt.xlabel('Year')\n",
        "plt.title('Percentage of Yes Answer Change Over Years (Figure 3)')\n",
        "plt.legend()\n",
        "plt.show()"
      ],
      "metadata": {
        "id": "XpJ7OAp3Rfbj",
        "outputId": "7e994178-34b4-42d5-fcb7-da75bdecc0a3",
        "colab": {
          "base_uri": "https://localhost:8080/",
          "height": 472
        }
      },
      "execution_count": 41,
      "outputs": [
        {
          "output_type": "display_data",
          "data": {
            "text/plain": [
              "<Figure size 640x480 with 1 Axes>"
            ],
            "image/png": "[encoded data removed]"
          },
          "metadata": {}
        }
      ]
    },
    {
      "cell_type": "markdown",
      "source": [
        "## Conclusion\n",
        "\n",
        "This project was an extensive analysis of the societal attitudes towards suicide and justifications in various scenarios related to suicide over a 45-year span. Some criticism may arise in our analysis regarding the binary nature of a “yes” or “no” response towards suicide. On one hand, this simplifies the complex issue of suicide, but this binary approach allows for clear, digestible insight into trends over a certain period of time, servering as a valuable starting point for understanding societal change. This survey encompasses a large demographic, which stands firm against any critiques of sample size and representativeness.\n",
        "\n",
        "While the cope of the project focuses on a numerical analysis, more areas of study is recommended to expand understanding of Americans attitude towards suicide. First can be understanding how and if public policy influences public opinion of these sensitive issues. This could be looking at healthcare practices or medial portrayal of suicide. Another way to get a better understanding of the issue is doing a qualitative analysis. This could be an in depth interview or focus groups that could provide better context behind these numerical trends observes, especially regarding the increase in affirmative responses to “suicide1”.  \n",
        "\n",
        "Lastly, in the digital age, it is pivotal to understand the corelation between social media and the attitudes towards suicide. A dedicated study of online discourse and shifts in survey responses could be enlightening."
      ],
      "metadata": {
        "id": "JVuLdJyxk0Hg"
      }
    }
  ]
}